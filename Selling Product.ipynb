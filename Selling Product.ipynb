{
 "cells": [
  {
   "cell_type": "code",
   "execution_count": 1,
   "id": "618f18a5",
   "metadata": {},
   "outputs": [],
   "source": [
    "# importing json file and reading the file in read mode"
   ]
  },
  {
   "cell_type": "code",
   "execution_count": 2,
   "id": "675b35bc",
   "metadata": {},
   "outputs": [],
   "source": [
    "import json"
   ]
  },
  {
   "cell_type": "code",
   "execution_count": 3,
   "id": "51f77786",
   "metadata": {},
   "outputs": [
    {
     "name": "stdout",
     "output_type": "stream",
     "text": [
      "{\"101\": {\"Pd_Name\": \"Dairy Milk\", \"Pd_Price\": 50, \"Pd_GST_amt\": 9, \"Pd_Quantity\": 25, \"Expiry_Date\": \"06-10-2021\"}, \"102\": {\"Pd_Name\": \"5star\", \"Pd_Price\": 10, \"Pd_GST_amt\": 1.8, \"Pd_Quantity\": 50, \"Expiry_Date\": \"06-10-2021\"}, \"103\": {\"Pd_Name\": \"Kit Kat\", \"Pd_Price\": 25, \"Pd_GST_amt\": 4.5, \"Pd_Quantity\": 35, \"Expiry_Date\": \"06-10-2021\"}, \"104\": {\"Pd_Name\": \"Pen\", \"Pd_Price\": 5, \"Pd_GST_amt\": 0.75, \"Pd_Quantity\": 55, \"Expiry_Date\": \"06-10-2022\"}, \"105\": {\"Pd_Name\": \"Pencil\", \"Pd_Price\": 7, \"Pd_GST_amt\": 1.05, \"Pd_Quantity\": 60, \"Expiry_Date\": \"06-10-2022\"}, \"106\": {\"Pd_Name\": \"Pencil\", \"Pd_Price\": 7, \"Pd_GST_amt\": 1.05, \"Pd_Quantity\": 60, \"Expiry_Date\": \"06-10-2022\"}, \"107\": {\"Pd_Name\": \"Scale\", \"Pd_Price\": 12, \"Pd_GST_amt\": 1.8, \"Pd_Quantity\": 35, \"Expiry_Date\": \"06-10-2022\"}, \"108\": {\"Pd_Name\": \"Tomato Sauce\", \"Pd_Price\": 100, \"Pd_GST_amt\": 20, \"Pd_Quantity\": 20, \"Expiry_Date\": \"06-10-2021\"}, \"109\": {\"Pd_Name\": \"Biscuits\", \"Pd_Price\": 15, \"Pd_GST_amt\": 2.7, \"Pd_Quantity\": 35, \"Expiry_Date\": \"06-10-2021\"}, \"110\": {\"Pd_Name\": \"Salt\", \"Pd_Price\": 25, \"Pd_GST_amt\": 3.75, \"Pd_Quantity\": 35, \"Expiry_Date\": \"06-10-2021\"}, \"111\": {\"Pd_Name\": \"Pepper Powder\", \"Pd_Price\": 25, \"Pd_GST_amt\": 3.75, \"Pd_Quantity\": 25, \"Expiry_Date\": \"06-10-2021\"}, \"112\": {\"Pd_Name\": \"Dairy Milk\", \"Pd_Price\": 25, \"Pd_GST_amt\": 4.5, \"Pd_Quantity\": 50, \"Expiry_Date\": \"06-10-2021\"}, \"113\": {\"Pd_Name\": \"5star\", \"Pd_Price\": 5, \"Pd_GST_amt\": 0.75, \"Pd_Quantity\": 50, \"Expiry_Date\": \"06-10-2021\"}, \"114\": {\"Pd_Name\": \"Kit Kat\", \"Pd_Price\": 15, \"Pd_GST_amt\": 2.7, \"Pd_Quantity\": 20, \"Expiry_Date\": \"06-10-2021\"}, \"115\": {\"Pd_Name\": \"Chocos\", \"Pd_Price\": 10, \"Pd_GST_amt\": 1.8, \"Pd_Quantity\": 25, \"Expiry_Date\": \"06-10-2021\"}, \"116\": {\"Pd_Name\": \"Stick Pen\", \"Pd_Price\": 20, \"Pd_GST_amt\": 3.0, \"Pd_Quantity\": 25, \"Expiry_Date\": \"06-10-2022\"}, \"117\": {\"Pd_Name\": \"Dove Soap\", \"Pd_Price\": 40, \"Pd_GST_amt\": 7.6, \"Pd_Quantity\": 15, \"Expiry_Date\": \"06-05-2022\"}, \"118\": {\"Pd_Name\": \"Lux Soap\", \"Pd_Price\": 35, \"Pd_GST_amt\": 6.65, \"Pd_Quantity\": 15, \"Expiry_Date\": \"06-05-2022\"}, \"119\": {\"Pd_Name\": \"Pears Soap\", \"Pd_Price\": 35, \"Pd_GST_amt\": 6.65, \"Pd_Quantity\": 0, \"Expiry_Date\": \"06-05-2022\"}, \"120\": {\"Pd_Name\": \"Lifeboy Soap\", \"Pd_Price\": 25, \"Pd_GST_amt\": 4.45, \"Pd_Quantity\": 5, \"Expiry_Date\": \"06-05-2022\"}, \"121\": {\"Pd_Name\": \"Dove Shampoo\", \"Pd_Price\": 75, \"Pd_GST_amt\": 15.75, \"Pd_Quantity\": 0, \"Expiry_Date\": \"06-10-2022\"}, \"122\": {\"Pd_Name\": \"Tresemme Shampoo\", \"Pd_Price\": 75, \"Pd_GST_amt\": 15.75, \"Pd_Quantity\": 3, \"Expiry_Date\": \"06-10-2022\"}, \"123\": {\"Pd_Name\": \"Kurkure\", \"Pd_Price\": 5, \"Pd_GST_amt\": 0.25, \"Pd_Quantity\": 25, \"Expiry_Date\": \"06-10-2021\"}, \"124\": {\"Pd_Name\": \"Lays\", \"Pd_Price\": 5, \"Pd_GST_amt\": 0.25, \"Pd_Quantity\": 25, \"Expiry_Date\": \"06-10-2021\"}, \"125\": {\"Pd_Name\": \"Ponds Powder\", \"Pd_Price\": 75, \"Pd_GST_amt\": 15.75, \"Pd_Quantity\": 2, \"Expiry_Date\": \"06-10-2022\"}, \"126\": {\"Pd_Name\": \"Compact Powder\", \"Pd_Price\": 115, \"Pd_GST_amt\": 24.15, \"Pd_Quantity\": 0, \"Expiry_Date\": \"06-10-2022\"}, \"127\": {\"Pd_Name\": \"Coco Cola\", \"Pd_Price\": 25, \"Pd_GST_amt\": 4.5, \"Pd_Quantity\": 5, \"Expiry_Date\": \"06-06-2022\"}, \"128\": {\"Pd_Name\": \"Sprite\", \"Pd_Price\": 35, \"Pd_GST_amt\": 6.3, \"Pd_Quantity\": 0, \"Expiry_Date\": \"06-06-2022\"}, \"129\": {\"Pd_Name\": \"7UP\", \"Pd_Price\": 20, \"Pd_GST_amt\": 3.6, \"Pd_Quantity\": 5, \"Expiry_Date\": \"06-06-2022\"}, \"130\": {\"Pd_Name\": \"Fanta\", \"Pd_Price\": 40, \"Pd_GST_amt\": 7.2, \"Pd_Quantity\": 3, \"Expiry_Date\": \"06-06-2022\"}}\n"
     ]
    }
   ],
   "source": [
    "fd = open(\"Product details.json\",'r')\n",
    "item = fd.read()\n",
    "fd.close()\n",
    "print(item)"
   ]
  },
  {
   "cell_type": "code",
   "execution_count": null,
   "id": "bffd0d53",
   "metadata": {},
   "outputs": [],
   "source": []
  },
  {
   "cell_type": "code",
   "execution_count": 4,
   "id": "15e4b02c",
   "metadata": {},
   "outputs": [],
   "source": [
    "# loading the data into the record from the json file using loads function"
   ]
  },
  {
   "cell_type": "code",
   "execution_count": 6,
   "id": "c72c6988",
   "metadata": {},
   "outputs": [
    {
     "name": "stdout",
     "output_type": "stream",
     "text": [
      "{'101': {'Pd_Name': 'Dairy Milk', 'Pd_Price': 50, 'Pd_GST_amt': 9, 'Pd_Quantity': 25, 'Expiry_Date': '06-10-2021'}, '102': {'Pd_Name': '5star', 'Pd_Price': 10, 'Pd_GST_amt': 1.8, 'Pd_Quantity': 50, 'Expiry_Date': '06-10-2021'}, '103': {'Pd_Name': 'Kit Kat', 'Pd_Price': 25, 'Pd_GST_amt': 4.5, 'Pd_Quantity': 35, 'Expiry_Date': '06-10-2021'}, '104': {'Pd_Name': 'Pen', 'Pd_Price': 5, 'Pd_GST_amt': 0.75, 'Pd_Quantity': 55, 'Expiry_Date': '06-10-2022'}, '105': {'Pd_Name': 'Pencil', 'Pd_Price': 7, 'Pd_GST_amt': 1.05, 'Pd_Quantity': 60, 'Expiry_Date': '06-10-2022'}, '106': {'Pd_Name': 'Pencil', 'Pd_Price': 7, 'Pd_GST_amt': 1.05, 'Pd_Quantity': 60, 'Expiry_Date': '06-10-2022'}, '107': {'Pd_Name': 'Scale', 'Pd_Price': 12, 'Pd_GST_amt': 1.8, 'Pd_Quantity': 35, 'Expiry_Date': '06-10-2022'}, '108': {'Pd_Name': 'Tomato Sauce', 'Pd_Price': 100, 'Pd_GST_amt': 20, 'Pd_Quantity': 20, 'Expiry_Date': '06-10-2021'}, '109': {'Pd_Name': 'Biscuits', 'Pd_Price': 15, 'Pd_GST_amt': 2.7, 'Pd_Quantity': 35, 'Expiry_Date': '06-10-2021'}, '110': {'Pd_Name': 'Salt', 'Pd_Price': 25, 'Pd_GST_amt': 3.75, 'Pd_Quantity': 35, 'Expiry_Date': '06-10-2021'}, '111': {'Pd_Name': 'Pepper Powder', 'Pd_Price': 25, 'Pd_GST_amt': 3.75, 'Pd_Quantity': 25, 'Expiry_Date': '06-10-2021'}, '112': {'Pd_Name': 'Dairy Milk', 'Pd_Price': 25, 'Pd_GST_amt': 4.5, 'Pd_Quantity': 50, 'Expiry_Date': '06-10-2021'}, '113': {'Pd_Name': '5star', 'Pd_Price': 5, 'Pd_GST_amt': 0.75, 'Pd_Quantity': 50, 'Expiry_Date': '06-10-2021'}, '114': {'Pd_Name': 'Kit Kat', 'Pd_Price': 15, 'Pd_GST_amt': 2.7, 'Pd_Quantity': 20, 'Expiry_Date': '06-10-2021'}, '115': {'Pd_Name': 'Chocos', 'Pd_Price': 10, 'Pd_GST_amt': 1.8, 'Pd_Quantity': 25, 'Expiry_Date': '06-10-2021'}, '116': {'Pd_Name': 'Stick Pen', 'Pd_Price': 20, 'Pd_GST_amt': 3.0, 'Pd_Quantity': 25, 'Expiry_Date': '06-10-2022'}, '117': {'Pd_Name': 'Dove Soap', 'Pd_Price': 40, 'Pd_GST_amt': 7.6, 'Pd_Quantity': 15, 'Expiry_Date': '06-05-2022'}, '118': {'Pd_Name': 'Lux Soap', 'Pd_Price': 35, 'Pd_GST_amt': 6.65, 'Pd_Quantity': 15, 'Expiry_Date': '06-05-2022'}, '119': {'Pd_Name': 'Pears Soap', 'Pd_Price': 35, 'Pd_GST_amt': 6.65, 'Pd_Quantity': 0, 'Expiry_Date': '06-05-2022'}, '120': {'Pd_Name': 'Lifeboy Soap', 'Pd_Price': 25, 'Pd_GST_amt': 4.45, 'Pd_Quantity': 5, 'Expiry_Date': '06-05-2022'}, '121': {'Pd_Name': 'Dove Shampoo', 'Pd_Price': 75, 'Pd_GST_amt': 15.75, 'Pd_Quantity': 0, 'Expiry_Date': '06-10-2022'}, '122': {'Pd_Name': 'Tresemme Shampoo', 'Pd_Price': 75, 'Pd_GST_amt': 15.75, 'Pd_Quantity': 3, 'Expiry_Date': '06-10-2022'}, '123': {'Pd_Name': 'Kurkure', 'Pd_Price': 5, 'Pd_GST_amt': 0.25, 'Pd_Quantity': 25, 'Expiry_Date': '06-10-2021'}, '124': {'Pd_Name': 'Lays', 'Pd_Price': 5, 'Pd_GST_amt': 0.25, 'Pd_Quantity': 25, 'Expiry_Date': '06-10-2021'}, '125': {'Pd_Name': 'Ponds Powder', 'Pd_Price': 75, 'Pd_GST_amt': 15.75, 'Pd_Quantity': 2, 'Expiry_Date': '06-10-2022'}, '126': {'Pd_Name': 'Compact Powder', 'Pd_Price': 115, 'Pd_GST_amt': 24.15, 'Pd_Quantity': 0, 'Expiry_Date': '06-10-2022'}, '127': {'Pd_Name': 'Coco Cola', 'Pd_Price': 25, 'Pd_GST_amt': 4.5, 'Pd_Quantity': 5, 'Expiry_Date': '06-06-2022'}, '128': {'Pd_Name': 'Sprite', 'Pd_Price': 35, 'Pd_GST_amt': 6.3, 'Pd_Quantity': 0, 'Expiry_Date': '06-06-2022'}, '129': {'Pd_Name': '7UP', 'Pd_Price': 20, 'Pd_GST_amt': 3.6, 'Pd_Quantity': 5, 'Expiry_Date': '06-06-2022'}, '130': {'Pd_Name': 'Fanta', 'Pd_Price': 40, 'Pd_GST_amt': 7.2, 'Pd_Quantity': 3, 'Expiry_Date': '06-06-2022'}}\n"
     ]
    }
   ],
   "source": [
    "record = json.loads(item)\n",
    "print(record)"
   ]
  },
  {
   "cell_type": "code",
   "execution_count": null,
   "id": "5b8e679f",
   "metadata": {},
   "outputs": [],
   "source": []
  },
  {
   "cell_type": "code",
   "execution_count": 8,
   "id": "4e60d36b",
   "metadata": {},
   "outputs": [],
   "source": [
    "# Performing billing operations in record"
   ]
  },
  {
   "cell_type": "code",
   "execution_count": 10,
   "id": "6a38b65c",
   "metadata": {},
   "outputs": [],
   "source": [
    "# Selling the prdouct with the zero quantity\n",
    "\n",
    "# Testing if statement"
   ]
  },
  {
   "cell_type": "code",
   "execution_count": 9,
   "id": "97aa2aeb",
   "metadata": {},
   "outputs": [
    {
     "name": "stdout",
     "output_type": "stream",
     "text": [
      "Product ID : 128\n",
      "Quantity: 2\n",
      "\n",
      "\n",
      "The product is Sold Out...\n"
     ]
    }
   ],
   "source": [
    "import time\n",
    "time = time.ctime()\n",
    "\n",
    "Pd_id = input(\"Product ID : \")\n",
    "Pd_Qt = int(input(\"Quantity: \"))\n",
    "\n",
    "if record[Pd_id]['Pd_Quantity'] == 0 :\n",
    "    print(\"\\n\")\n",
    "    print(\"The product is Sold Out...\")\n",
    "    \n",
    "    \n",
    "elif Pd_Qt <= record[Pd_id]['Pd_Quantity'] :\n",
    "    print(\"\\n\")\n",
    "    print(\"*******************PRODUCTS BILL*******************\")\n",
    "    print(\"\\n\")\n",
    "    print(\"Product Name: \",record[Pd_id]['Pd_Name'])\n",
    "    print(\"Product Price: \",record[Pd_id]['Pd_Price'])\n",
    "    print(\"Product GST Amount: \",record[Pd_id]['Pd_GST_amt'])\n",
    "    print(\"Product Quantity: \",Pd_Qt)\n",
    "    print(\"Product Expiry Date: \",record[Pd_id]['Expiry_Date'])\n",
    "    print(\"\\n\") \n",
    "    print(\"The GST will be included in the total amount.\")\n",
    "    print(\"****************************************************\")\n",
    "    print(\"\\n\")\n",
    "    \n",
    "    total = (record[Pd_id]['Pd_Price'] + record[Pd_id]['Pd_GST_amt']) * Pd_Qt\n",
    "    amount = format(float(total),'.2f')\n",
    "    \n",
    "    print(\"TOTAL AMOUNT = \",amount)\n",
    "    print(\"\\n\")\n",
    "    print(\"Billing Time: \",time)\n",
    "    print(\"****************************************************\")\n",
    "    print(\"\\n\")\n",
    "    print(\"-------------STAY SAFE AND VISIT AGAIN--------------\")\n",
    "    \n",
    "    \n",
    "else :\n",
    "    print(\"\\n\")\n",
    "    print(\"We have only\",record[Pd_id]['Pd_Quantity'],\"quantity in this products.\")"
   ]
  },
  {
   "cell_type": "code",
   "execution_count": null,
   "id": "72182b69",
   "metadata": {},
   "outputs": [],
   "source": []
  },
  {
   "cell_type": "code",
   "execution_count": 11,
   "id": "54f6781a",
   "metadata": {},
   "outputs": [],
   "source": [
    "# Selling the product with the quantity beyond in the record\n",
    "\n",
    "# Testing else statement"
   ]
  },
  {
   "cell_type": "code",
   "execution_count": 12,
   "id": "9681e60b",
   "metadata": {},
   "outputs": [
    {
     "name": "stdout",
     "output_type": "stream",
     "text": [
      "Product ID : 130\n",
      "Quantity: 4\n",
      "\n",
      "\n",
      "We have only 3 quantity in this products.\n"
     ]
    }
   ],
   "source": [
    "Pd_id = input(\"Product ID : \")\n",
    "Pd_Qt = int(input(\"Quantity: \"))\n",
    "\n",
    "if record[Pd_id]['Pd_Quantity'] == 0 :\n",
    "    print(\"\\n\")\n",
    "    print(\"The product is Sold Out...\")\n",
    "    \n",
    "    \n",
    "elif Pd_Qt <= record[Pd_id]['Pd_Quantity'] :\n",
    "    print(\"\\n\")\n",
    "    print(\"*******************PRODUCTS BILL*******************\")\n",
    "    print(\"\\n\")\n",
    "    print(\"Product Name: \",record[Pd_id]['Pd_Name'])\n",
    "    print(\"Product Price: \",record[Pd_id]['Pd_Price'])\n",
    "    print(\"Product GST Amount: \",record[Pd_id]['Pd_GST_amt'])\n",
    "    print(\"Product Quantity: \",Pd_Qt)\n",
    "    print(\"Product Expiry Date: \",record[Pd_id]['Expiry_Date'])\n",
    "    print(\"\\n\") \n",
    "    print(\"The GST will be included in the total amount.\")\n",
    "    print(\"****************************************************\")\n",
    "    print(\"\\n\")\n",
    "    \n",
    "    total = (record[Pd_id]['Pd_Price'] + record[Pd_id]['Pd_GST_amt']) * Pd_Qt\n",
    "    amount = format(float(total),'.2f')\n",
    "    \n",
    "    print(\"TOTAL AMOUNT = \",amount)\n",
    "    print(\"\\n\")\n",
    "    print(\"Billing Time: \",time)\n",
    "    print(\"****************************************************\")\n",
    "    print(\"\\n\")\n",
    "    print(\"-------------STAY SAFE AND VISIT AGAIN--------------\")\n",
    "    \n",
    "    \n",
    "else :\n",
    "    print(\"\\n\")\n",
    "    print(\"We have only\",record[Pd_id]['Pd_Quantity'],\"quantity in this products.\")\n",
    "    "
   ]
  },
  {
   "cell_type": "code",
   "execution_count": null,
   "id": "8e066d45",
   "metadata": {},
   "outputs": [],
   "source": []
  },
  {
   "cell_type": "code",
   "execution_count": 13,
   "id": "899ab08f",
   "metadata": {},
   "outputs": [],
   "source": [
    "# Selling the product with the quantity we have\n",
    "\n",
    "# Testing elif statement"
   ]
  },
  {
   "cell_type": "code",
   "execution_count": 14,
   "id": "7fecaaef",
   "metadata": {},
   "outputs": [
    {
     "name": "stdout",
     "output_type": "stream",
     "text": [
      "Product ID : 101\n",
      "Quantity: 4\n",
      "\n",
      "\n",
      "*******************PRODUCTS BILL*******************\n",
      "\n",
      "\n",
      "Product Name:  Dairy Milk\n",
      "Product Price:  50\n",
      "Product GST Amount:  9\n",
      "Product Quantity:  4\n",
      "Product Expiry Date:  06-10-2021\n",
      "\n",
      "\n",
      "The GST will be included in the total amount.\n",
      "****************************************************\n",
      "\n",
      "\n",
      "TOTAL AMOUNT =  236.00\n",
      "\n",
      "\n",
      "Billing Time:  Tue Sep  7 16:36:27 2021\n",
      "****************************************************\n",
      "\n",
      "\n",
      "-------------STAY SAFE AND VISIT AGAIN--------------\n"
     ]
    }
   ],
   "source": [
    "Pd_id = input(\"Product ID : \")\n",
    "Pd_Qt = int(input(\"Quantity: \"))\n",
    "\n",
    "if record[Pd_id]['Pd_Quantity'] == 0 :\n",
    "    print(\"\\n\")\n",
    "    print(\"The product is Sold Out...\")\n",
    "    \n",
    "    \n",
    "elif Pd_Qt <= record[Pd_id]['Pd_Quantity'] :\n",
    "    print(\"\\n\")\n",
    "    print(\"*******************PRODUCTS BILL*******************\")\n",
    "    print(\"\\n\")\n",
    "    print(\"Product Name: \",record[Pd_id]['Pd_Name'])\n",
    "    print(\"Product Price: \",record[Pd_id]['Pd_Price'])\n",
    "    print(\"Product GST Amount: \",record[Pd_id]['Pd_GST_amt'])\n",
    "    print(\"Product Quantity: \",Pd_Qt)    \n",
    "    print(\"Product Expiry Date: \",record[Pd_id]['Expiry_Date'])\n",
    "    print(\"\\n\") \n",
    "    print(\"The GST will be included in the total amount.\")\n",
    "    print(\"****************************************************\")\n",
    "    print(\"\\n\")\n",
    "    \n",
    "    total = (record[Pd_id]['Pd_Price'] + record[Pd_id]['Pd_GST_amt']) * Pd_Qt\n",
    "    amount = format(float(total),'.2f')\n",
    "    \n",
    "    print(\"TOTAL AMOUNT = \",amount)\n",
    "    print(\"\\n\")\n",
    "    print(\"Billing Time: \",time)\n",
    "    print(\"****************************************************\")\n",
    "    print(\"\\n\")\n",
    "    print(\"-------------STAY SAFE AND VISIT AGAIN--------------\")\n",
    "    \n",
    "    \n",
    "else :\n",
    "    print(\"\\n\")\n",
    "    print(\"We have only\",record[Pd_id]['Pd_Quantity'],\"quantity in this products.\")"
   ]
  },
  {
   "cell_type": "code",
   "execution_count": null,
   "id": "fd43cce9",
   "metadata": {},
   "outputs": [],
   "source": []
  },
  {
   "cell_type": "code",
   "execution_count": 18,
   "id": "dd04c6f0",
   "metadata": {},
   "outputs": [],
   "source": [
    "# updating the product detail"
   ]
  },
  {
   "cell_type": "code",
   "execution_count": 16,
   "id": "71121204",
   "metadata": {},
   "outputs": [
    {
     "name": "stdout",
     "output_type": "stream",
     "text": [
      "Updated_record:  {'101': {'Pd_Name': 'Dairy Milk', 'Pd_Price': 50, 'Pd_GST_amt': 9, 'Pd_Quantity': 21, 'Expiry_Date': '06-10-2021'}, '102': {'Pd_Name': '5star', 'Pd_Price': 10, 'Pd_GST_amt': 1.8, 'Pd_Quantity': 50, 'Expiry_Date': '06-10-2021'}, '103': {'Pd_Name': 'Kit Kat', 'Pd_Price': 25, 'Pd_GST_amt': 4.5, 'Pd_Quantity': 35, 'Expiry_Date': '06-10-2021'}, '104': {'Pd_Name': 'Pen', 'Pd_Price': 5, 'Pd_GST_amt': 0.75, 'Pd_Quantity': 55, 'Expiry_Date': '06-10-2022'}, '105': {'Pd_Name': 'Pencil', 'Pd_Price': 7, 'Pd_GST_amt': 1.05, 'Pd_Quantity': 60, 'Expiry_Date': '06-10-2022'}, '106': {'Pd_Name': 'Pencil', 'Pd_Price': 7, 'Pd_GST_amt': 1.05, 'Pd_Quantity': 60, 'Expiry_Date': '06-10-2022'}, '107': {'Pd_Name': 'Scale', 'Pd_Price': 12, 'Pd_GST_amt': 1.8, 'Pd_Quantity': 35, 'Expiry_Date': '06-10-2022'}, '108': {'Pd_Name': 'Tomato Sauce', 'Pd_Price': 100, 'Pd_GST_amt': 20, 'Pd_Quantity': 20, 'Expiry_Date': '06-10-2021'}, '109': {'Pd_Name': 'Biscuits', 'Pd_Price': 15, 'Pd_GST_amt': 2.7, 'Pd_Quantity': 35, 'Expiry_Date': '06-10-2021'}, '110': {'Pd_Name': 'Salt', 'Pd_Price': 25, 'Pd_GST_amt': 3.75, 'Pd_Quantity': 35, 'Expiry_Date': '06-10-2021'}, '111': {'Pd_Name': 'Pepper Powder', 'Pd_Price': 25, 'Pd_GST_amt': 3.75, 'Pd_Quantity': 25, 'Expiry_Date': '06-10-2021'}, '112': {'Pd_Name': 'Dairy Milk', 'Pd_Price': 25, 'Pd_GST_amt': 4.5, 'Pd_Quantity': 50, 'Expiry_Date': '06-10-2021'}, '113': {'Pd_Name': '5star', 'Pd_Price': 5, 'Pd_GST_amt': 0.75, 'Pd_Quantity': 50, 'Expiry_Date': '06-10-2021'}, '114': {'Pd_Name': 'Kit Kat', 'Pd_Price': 15, 'Pd_GST_amt': 2.7, 'Pd_Quantity': 20, 'Expiry_Date': '06-10-2021'}, '115': {'Pd_Name': 'Chocos', 'Pd_Price': 10, 'Pd_GST_amt': 1.8, 'Pd_Quantity': 25, 'Expiry_Date': '06-10-2021'}, '116': {'Pd_Name': 'Stick Pen', 'Pd_Price': 20, 'Pd_GST_amt': 3.0, 'Pd_Quantity': 25, 'Expiry_Date': '06-10-2022'}, '117': {'Pd_Name': 'Dove Soap', 'Pd_Price': 40, 'Pd_GST_amt': 7.6, 'Pd_Quantity': 15, 'Expiry_Date': '06-05-2022'}, '118': {'Pd_Name': 'Lux Soap', 'Pd_Price': 35, 'Pd_GST_amt': 6.65, 'Pd_Quantity': 15, 'Expiry_Date': '06-05-2022'}, '119': {'Pd_Name': 'Pears Soap', 'Pd_Price': 35, 'Pd_GST_amt': 6.65, 'Pd_Quantity': 0, 'Expiry_Date': '06-05-2022'}, '120': {'Pd_Name': 'Lifeboy Soap', 'Pd_Price': 25, 'Pd_GST_amt': 4.45, 'Pd_Quantity': 5, 'Expiry_Date': '06-05-2022'}, '121': {'Pd_Name': 'Dove Shampoo', 'Pd_Price': 75, 'Pd_GST_amt': 15.75, 'Pd_Quantity': 0, 'Expiry_Date': '06-10-2022'}, '122': {'Pd_Name': 'Tresemme Shampoo', 'Pd_Price': 75, 'Pd_GST_amt': 15.75, 'Pd_Quantity': 3, 'Expiry_Date': '06-10-2022'}, '123': {'Pd_Name': 'Kurkure', 'Pd_Price': 5, 'Pd_GST_amt': 0.25, 'Pd_Quantity': 25, 'Expiry_Date': '06-10-2021'}, '124': {'Pd_Name': 'Lays', 'Pd_Price': 5, 'Pd_GST_amt': 0.25, 'Pd_Quantity': 25, 'Expiry_Date': '06-10-2021'}, '125': {'Pd_Name': 'Ponds Powder', 'Pd_Price': 75, 'Pd_GST_amt': 15.75, 'Pd_Quantity': 2, 'Expiry_Date': '06-10-2022'}, '126': {'Pd_Name': 'Compact Powder', 'Pd_Price': 115, 'Pd_GST_amt': 24.15, 'Pd_Quantity': 0, 'Expiry_Date': '06-10-2022'}, '127': {'Pd_Name': 'Coco Cola', 'Pd_Price': 25, 'Pd_GST_amt': 4.5, 'Pd_Quantity': 5, 'Expiry_Date': '06-06-2022'}, '128': {'Pd_Name': 'Sprite', 'Pd_Price': 35, 'Pd_GST_amt': 6.3, 'Pd_Quantity': 0, 'Expiry_Date': '06-06-2022'}, '129': {'Pd_Name': '7UP', 'Pd_Price': 20, 'Pd_GST_amt': 3.6, 'Pd_Quantity': 5, 'Expiry_Date': '06-06-2022'}, '130': {'Pd_Name': 'Fanta', 'Pd_Price': 40, 'Pd_GST_amt': 7.2, 'Pd_Quantity': 3, 'Expiry_Date': '06-06-2022'}}\n"
     ]
    }
   ],
   "source": [
    "update_record = record[Pd_id]['Pd_Quantity'] - Pd_Qt\n",
    "record[Pd_id]['Pd_Quantity'] = update_record\n",
    "print(\"Updated_record: \",record)"
   ]
  },
  {
   "cell_type": "code",
   "execution_count": 17,
   "id": "b46b90bd",
   "metadata": {},
   "outputs": [],
   "source": [
    "# in the above result the product quantity of 101 is reduced to 21"
   ]
  },
  {
   "cell_type": "code",
   "execution_count": 19,
   "id": "f4d8fae1",
   "metadata": {},
   "outputs": [],
   "source": [
    "# Updating this record in our json file using dumps function"
   ]
  },
  {
   "cell_type": "code",
   "execution_count": 20,
   "id": "b1b1f5b5",
   "metadata": {},
   "outputs": [],
   "source": [
    "item = json.dumps(record)"
   ]
  },
  {
   "cell_type": "code",
   "execution_count": 22,
   "id": "c2ad0104",
   "metadata": {},
   "outputs": [],
   "source": [
    "# now writing the new record into our json file\n",
    "\n",
    "\n",
    "fd = open(\"Product details.json\",'w')\n",
    "fd.write(item)\n",
    "fd.close()"
   ]
  },
  {
   "cell_type": "code",
   "execution_count": null,
   "id": "4b62521f",
   "metadata": {},
   "outputs": [],
   "source": []
  }
 ],
 "metadata": {
  "kernelspec": {
   "display_name": "Python 3",
   "language": "python",
   "name": "python3"
  },
  "language_info": {
   "codemirror_mode": {
    "name": "ipython",
    "version": 3
   },
   "file_extension": ".py",
   "mimetype": "text/x-python",
   "name": "python",
   "nbconvert_exporter": "python",
   "pygments_lexer": "ipython3",
   "version": "3.8.8"
  }
 },
 "nbformat": 4,
 "nbformat_minor": 5
}
